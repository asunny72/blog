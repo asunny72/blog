{
 "cells": [
  {
   "attachments": {},
   "cell_type": "markdown",
   "metadata": {},
   "source": [
    "# Neural Network From Scratch\n",
    "\n",
    "<img style=\"float: left; padding-right:0.5em;\" src=\"https://upload.wikimedia.org/wikipedia/commons/thumb/2/27/MnistExamples.png/320px-MnistExamples.png\">\n",
    "\n",
    "This notebook trains a simple artificial neural network from end-to-end with numpy.\n",
    "\n",
    "We will train a model to classify handwritten digits [0-9] using the [MNIST dataset](https://en.wikipedia.org/wiki/MNIST_database). This is the \"Hello World!\" example for neural network based Computer Vision (CV) models."
   ]
  },
  {
   "attachments": {},
   "cell_type": "markdown",
   "metadata": {},
   "source": [
    "# Data\n",
    "\n",
    "Download `train.csv` from [this kaggle competition](https://www.kaggle.com/competitions/digit-recognizer/data), and set the `TRAIN_DATA_PATH` variable below."
   ]
  },
  {
   "cell_type": "code",
   "execution_count": 23,
   "metadata": {},
   "outputs": [],
   "source": [
    "TRAIN_DATA_PATH = \"/your-path/train.csv\"\n",
    "\n",
    "import numpy as np\n",
    "import pandas as pd\n",
    "\n",
    "train_df = pd.read_csv(TRAIN_DATA_PATH)\n",
    "data = np.array(train_df)"
   ]
  },
  {
   "attachments": {},
   "cell_type": "markdown",
   "metadata": {},
   "source": [
    "Each image captures a handwritten digit and has a resolution of `28 X 28` pixels, for a total of 784 pixels per image. Each pixel has a single value associated with it from [0, 255], which indicates its darkness.\n",
    "\n",
    "`train.csv` represents each image as a single row in an `M x 785` matrix, where M is the number of images, and the number of columns consists of a) the number of pixels (784) per image and b) the label that denotes what the digit actually is.\n",
    "\n",
    "- matrix[0] = [ label, pixel0, pixel1, pixel2, pixel3 ]\n",
    "- image = matrix[0][1:] = [ pixel0, pixel1, pixel2, pixel3]\n",
    "- label = matrix[0][0]\n",
    "\n",
    "For example, let's look at a 2x2 image to understand how to \"Unflatten\" the 1D vector to the 2D matrix:\n",
    "\n",
    "<img src=\"https://assets.leetcode.com/uploads/2021/08/26/image-20210826114243-1.png\" alt=\"1D to 2D\" width=\"436\" height=\"151\">\n"
   ]
  },
  {
   "cell_type": "code",
   "execution_count": 24,
   "metadata": {},
   "outputs": [
    {
     "data": {
      "image/png": "[encoded data removed]",
      "text/plain": [
       "<Figure size 250x250 with 1 Axes>"
      ]
     },
     "metadata": {},
     "output_type": "display_data"
    }
   ],
   "source": [
    "from matplotlib import pyplot as plt\n",
    "import random\n",
    "\n",
    "\n",
    "def show_image(flattened: np.array, m=28, n=28):\n",
    "    assert flattened.ndim == 1, \"input must be one dimensional\"\n",
    "    matrix = flattened.reshape(m, n)\n",
    "    plt.figure(figsize=(2.5, 2.5))\n",
    "    plt.imshow(matrix, interpolation=\"nearest\")\n",
    "    plt.gray()\n",
    "    plt.show()\n",
    "\n",
    "\n",
    "show_image(data[random.randint(0, len(data))][1:])"
   ]
  },
  {
   "attachments": {},
   "cell_type": "markdown",
   "metadata": {},
   "source": [
    "# Machine Learned Features vs Handcrafted Features\n",
    "\n",
    "Let's brainstorm approaches to build a digit classifier w/out fancy ML. \n",
    "\n",
    "For example, we can break an input into distincitve `features` such as number of lines and loops([circle hough transform](https://en.wikipedia.org/wiki/Circle_Hough_Transform)). The digit '0' yields one loop loop, while the digit '8' yields two loops. The digits '9' and '6' both yield one loop and one line. Next, we can consider the spatial relation between these lines and loops. If the loop is on the bottom, it's a '6'.\n",
    "\n",
    "Essentially, we just hand crafted \"features\", and composed rules to judge the final result based on the feature values . The quality of our algorithm is directely porportional to how well crafted each feature is.\n",
    "\n",
    "In the above example, we hand crafted features, and as a result, could easily understand them. Alternatively, we can employ an artificial neural network to self learn all of the important features. While these features may not be interperable by humans, they certainly are distictive to the neural network. Let's further explore a neural network below.\n",
    "\n",
    "# Multilayer Perceptron (MLP)\n",
    "\n",
    "<img style=\"padding-right:0.5em;\" src=\"https://res.cloudinary.com/practicaldev/image/fetch/s--2UPg0Z-6--/c_limit%2Cf_auto%2Cfl_progressive%2Cq_auto%2Cw_880/https://imgur.com/KeIJEYy.jpeg\">\n",
    "\n",
    "The neural network architecture we will explore is the multi-layer perceptron (MLP), depicted above. Each node represents a neuron. Each column is an arrangement of neurons represent a layer.\n",
    "\n",
    "The layer on the far left is dubbed the \"input layer\". The layer on the far right is the \"output layer\". The layers in between are the \"hidden layers\".\n",
    "\n",
    "Each neuron in the input layer represents a pixel of the image, hence, there should by 784 inputs. The output layer should have 10 neurons, that correspond to a digit between [0, 9]. The number of hidden layers can be from [1, inf). We tune the number of hidden layers, and number of neurons per hidden layer empirically through experimentation.\n",
    "\n",
    "### A fictional thought excercise on neurons \"firing\"\n",
    "\n",
    "Imagine a human brain where certain neurons \"light up\" or \"activate\" based on observed inputs. E.g., some grouping of neurons light up when you smell pizza. In the above image, seeing a '9' lights up a certain pattern of neurons in the first hidden layer. The 2nd hidden layer lights up in response to the input pattern it observes in the first hidden layer. The output layer responds to how the neurons in the 2nd hidden layer are \"activated\".\n",
    "\n",
    "The next few sentences are FICTIONAL, but hope to help provide an analagy to better understand what the neural network is doing. Rembemer the analagy above, where to detect a '9' we can see if there is a loop co-joined with a line? We can imagine (again, FICTIONAL) that the first layer of this network is finds the loops and lines. If the neurons in that layer light up in a certain way, that means we detected a some number of loops and or lines. The next layer interprets this, and is responsible for seeing how close the components are together. If the loop is near the top, and there is a vertical line immediately to the right of the loop, the output neurons light up a certain way, and in this case, ONLY the output node that corresponds to the '9' lights up.\n",
    "\n",
    "Again, this isn't what is actually happening. The machine learns its own features that may not be human understandable. What's important to note is that the neurons in the preceding layer influence the neurons in the next layer. The first hidden layer recognizes patterns in the input. The 2nd hidden layer recognizes patterns in the 1st hidden layer. The output recognizes patterns in the 2nd hidden layer.\n",
    "\n",
    "We will implement this structure to see how well it performs. But first, let's understand the basic constituent units.\n",
    "\n",
    "### Artificial Neurons\n",
    "\n",
    "<img src=\"https://www.researchgate.net/publication/338190342/figure/fig2/AS:840701659074561@1577450303999/Structures-of-artificial-neural-network-ANN-model-that-show-a-data-flows-in-the-ANN.png\">\n",
    "\n",
    "An artificial neuron is the base unit that makes up most (if not all) neural network based algorithms.\n",
    "\n",
    "In the MLP, Each neuron consists of two components a) a linear combination of weighted inputs that feed into b) an activation function that outputs a value between 0 and 1.\n",
    "\n",
    "Let's take a look below at the \"perceptron\", invented by Frank Rosenblatt in 1957. The perceptron uses the \"threshold\" activation function. If the weighted sum of inputs exceeds a given threshold, the neuron \"activates\".\n",
    "\n",
    "<img src =\"https://miro.medium.com/v2/resize:fit:720/format:webp/1*FBJqWE6AHt8HMZ7XHW9uWg.png\">\n",
    "<!-- <img src=\"https://www.researchgate.net/publication/281953313/figure/fig1/AS:668914816139278@1536493128709/Architecture-of-the-three-layer-multilayer-perceptron-MLP-neural-network_Q640.jpg\"> -->\n",
    "\n",
    "### Sigmoid Neuron - a smoothed perceptron\n",
    "\n",
    "The threshold function does not provide granular feedback. Small changes in inputs either result in no changes, or a binary 0->1 change. This property complicates functions that find optimal values of the weights (more on this later). We can solve this by using the sigmoid activation function instead. We can conceptualize it as a smoothed threshold function."
   ]
  },
  {
   "cell_type": "code",
   "execution_count": 25,
   "metadata": {},
   "outputs": [
    {
     "data": {
      "text/plain": [
       "Text(0, 0.5, 'Sigmoid(X)')"
      ]
     },
     "execution_count": 25,
     "metadata": {},
     "output_type": "execute_result"
    },
    {
     "data": {
      "image/png": "[encoded data removed]",
      "text/plain": [
       "<Figure size 640x480 with 1 Axes>"
      ]
     },
     "metadata": {},
     "output_type": "display_data"
    }
   ],
   "source": [
    "x = np.linspace(-10, 10, 1000)\n",
    "sigmoid = 1 / (1 + np.exp(-x))\n",
    "plt.plot(x, sigmoid, linestyle=\"solid\")\n",
    "plt.ylabel(\"Sigmoid(X)\")"
   ]
  },
  {
   "attachments": {},
   "cell_type": "markdown",
   "metadata": {},
   "source": [
    "Note the similarity between the sigmoiod and threshold functions. At extreme inputs, they behave similiarly. In the above graph, values around (-2.5, 2.5) behave differenly from the threshold function. Now the output can be any value between 0 and 1, and small changes in the weights and biases can lead to small changes in the output.\n",
    "\n",
    "The MLP actually uses sigmoid neurons, as opposed to perceptrons like its namesake. We will use the sigmoid in our implementation. \n",
    "\n",
    "### Softmax\n",
    "We will use the sigmoid activation function on all hidden layers. However, on the last layer, we will use a **softmax** activation function.\n",
    "\n",
    "![softmax equation](https://www.gstatic.com/education/formulas2/472522532/en/softmax_function.svg)\n",
    "\n",
    "A softmax function normalizes the input into a probability distribution of K classes. In otherwords, in our last layer, we don't want postive or negative values.\n",
    "\n",
    "We want to know the probability the input is an '0', '1', '2', '3'... or a '9'. These probabilities should sum to one."
   ]
  },
  {
   "attachments": {},
   "cell_type": "markdown",
   "metadata": {},
   "source": [
    "# Let's Implement!\n",
    "\n",
    "We are going to create the simplest MLP possible => input layer to one hidden layer => output layer.\n",
    "\n",
    "We will visualize each neuron as having two components: a) the weighted sum, and b) the activation function. However, in the implementaion, we will separate these steps.\n",
    "\n",
    "So visually, the neural network will look something like below:\n"
   ]
  },
  {
   "cell_type": "code",
   "execution_count": 26,
   "metadata": {},
   "outputs": [],
   "source": [
    "%%capture install_logs\n",
    "%pip install graphviz"
   ]
  },
  {
   "cell_type": "code",
   "execution_count": 27,
   "metadata": {},
   "outputs": [
    {
     "data": {
      "image/svg+xml": [
       "<?xml version=\"1.0\" encoding=\"UTF-8\" standalone=\"no\"?>\n",
       "<!DOCTYPE svg PUBLIC \"-//W3C//DTD SVG 1.1//EN\"\n",
       " \"http://www.w3.org/Graphics/SVG/1.1/DTD/svg11.dtd\">\n",
       "<!-- Generated by graphviz version 2.48.0 (0)\n",
       " -->\n",
       "<!-- Pages: 1 -->\n",
       "<svg width=\"443pt\" height=\"44pt\"\n",
       " viewBox=\"0.00 0.00 443.37 44.00\" xmlns=\"http://www.w3.org/2000/svg\" xmlns:xlink=\"http://www.w3.org/1999/xlink\">\n",
       "<g id=\"graph0\" class=\"graph\" transform=\"scale(1 1) rotate(0) translate(4 40)\">\n",
       "<polygon fill=\"white\" stroke=\"transparent\" points=\"-4,4 -4,-40 439.37,-40 439.37,4 -4,4\"/>\n",
       "<!-- X -->\n",
       "<g id=\"node1\" class=\"node\">\n",
       "<title>X</title>\n",
       "<ellipse fill=\"none\" stroke=\"black\" cx=\"27\" cy=\"-18\" rx=\"27\" ry=\"18\"/>\n",
       "<text text-anchor=\"middle\" x=\"27\" y=\"-14.3\" font-family=\"Times,serif\" font-size=\"14.00\">X</text>\n",
       "</g>\n",
       "<!-- 1 -->\n",
       "<g id=\"node2\" class=\"node\">\n",
       "<title>1</title>\n",
       "<ellipse fill=\"none\" stroke=\"black\" cx=\"167.34\" cy=\"-18\" rx=\"77.19\" ry=\"18\"/>\n",
       "<text text-anchor=\"middle\" x=\"167.34\" y=\"-14.3\" font-family=\"Times,serif\" font-size=\"14.00\">Z1 | A1 (Sigmoid)</text>\n",
       "</g>\n",
       "<!-- X&#45;&gt;1 -->\n",
       "<g id=\"edge1\" class=\"edge\">\n",
       "<title>X&#45;&gt;1</title>\n",
       "<path fill=\"none\" stroke=\"black\" d=\"M54.02,-18C61.67,-18 70.48,-18 79.74,-18\"/>\n",
       "<polygon fill=\"black\" stroke=\"black\" points=\"79.93,-21.5 89.93,-18 79.93,-14.5 79.93,-21.5\"/>\n",
       "</g>\n",
       "<!-- 2 -->\n",
       "<g id=\"node3\" class=\"node\">\n",
       "<title>2</title>\n",
       "<ellipse fill=\"none\" stroke=\"black\" cx=\"358.03\" cy=\"-18\" rx=\"77.19\" ry=\"18\"/>\n",
       "<text text-anchor=\"middle\" x=\"358.03\" y=\"-14.3\" font-family=\"Times,serif\" font-size=\"14.00\">Z2 | A2 (Softmax)</text>\n",
       "</g>\n",
       "<!-- 1&#45;&gt;2 -->\n",
       "<g id=\"edge2\" class=\"edge\">\n",
       "<title>1&#45;&gt;2</title>\n",
       "<path fill=\"none\" stroke=\"black\" d=\"M244.82,-18C253.17,-18 261.71,-18 270.18,-18\"/>\n",
       "<polygon fill=\"black\" stroke=\"black\" points=\"270.45,-21.5 280.45,-18 270.45,-14.5 270.45,-21.5\"/>\n",
       "</g>\n",
       "</g>\n",
       "</svg>\n"
      ],
      "text/plain": [
       "<graphviz.graphs.Digraph at 0x154f77d60>"
      ]
     },
     "execution_count": 27,
     "metadata": {},
     "output_type": "execute_result"
    }
   ],
   "source": [
    "from graphviz import Digraph\n",
    "\n",
    "nn_vis = Digraph()\n",
    "nn_vis.graph_attr[\"rankdir\"] = \"LR\"\n",
    "nn_vis.node(\"X\", \"X\")\n",
    "nn_vis.node(\"1\", \"Z1 | A1 (Sigmoid)\")\n",
    "nn_vis.node(\"2\", \"Z2 | A2 (Softmax)\")\n",
    "\n",
    "nn_vis.edges([\"X1\", \"12\"])\n",
    "nn_vis"
   ]
  },
  {
   "attachments": {},
   "cell_type": "markdown",
   "metadata": {},
   "source": [
    "But programatically, the pipeline looks more like below:"
   ]
  },
  {
   "cell_type": "code",
   "execution_count": 28,
   "metadata": {},
   "outputs": [
    {
     "data": {
      "image/svg+xml": [
       "<?xml version=\"1.0\" encoding=\"UTF-8\" standalone=\"no\"?>\n",
       "<!DOCTYPE svg PUBLIC \"-//W3C//DTD SVG 1.1//EN\"\n",
       " \"http://www.w3.org/Graphics/SVG/1.1/DTD/svg11.dtd\">\n",
       "<!-- Generated by graphviz version 2.48.0 (0)\n",
       " -->\n",
       "<!-- Pages: 1 -->\n",
       "<svg width=\"860pt\" height=\"44pt\"\n",
       " viewBox=\"0.00 0.00 860.44 44.00\" xmlns=\"http://www.w3.org/2000/svg\" xmlns:xlink=\"http://www.w3.org/1999/xlink\">\n",
       "<g id=\"graph0\" class=\"graph\" transform=\"scale(1 1) rotate(0) translate(4 40)\">\n",
       "<polygon fill=\"white\" stroke=\"transparent\" points=\"-4,4 -4,-40 856.44,-40 856.44,4 -4,4\"/>\n",
       "<!-- X -->\n",
       "<g id=\"node1\" class=\"node\">\n",
       "<title>X</title>\n",
       "<ellipse fill=\"none\" stroke=\"black\" cx=\"46.15\" cy=\"-18\" rx=\"46.29\" ry=\"18\"/>\n",
       "<text text-anchor=\"middle\" x=\"46.15\" y=\"-14.3\" font-family=\"Times,serif\" font-size=\"14.00\">X = Input</text>\n",
       "</g>\n",
       "<!-- 1 -->\n",
       "<g id=\"node2\" class=\"node\">\n",
       "<title>1</title>\n",
       "<ellipse fill=\"none\" stroke=\"black\" cx=\"219.93\" cy=\"-18\" rx=\"91.78\" ry=\"18\"/>\n",
       "<text text-anchor=\"middle\" x=\"219.93\" y=\"-14.3\" font-family=\"Times,serif\" font-size=\"14.00\">Z1 = Weighted Sum 1</text>\n",
       "</g>\n",
       "<!-- X&#45;&gt;1 -->\n",
       "<g id=\"edge1\" class=\"edge\">\n",
       "<title>X&#45;&gt;1</title>\n",
       "<path fill=\"none\" stroke=\"black\" d=\"M92.73,-18C100.75,-18 109.37,-18 118.21,-18\"/>\n",
       "<polygon fill=\"black\" stroke=\"black\" points=\"118.26,-21.5 128.26,-18 118.26,-14.5 118.26,-21.5\"/>\n",
       "</g>\n",
       "<!-- 2 -->\n",
       "<g id=\"node3\" class=\"node\">\n",
       "<title>2</title>\n",
       "<ellipse fill=\"none\" stroke=\"black\" cx=\"409.97\" cy=\"-18\" rx=\"62.29\" ry=\"18\"/>\n",
       "<text text-anchor=\"middle\" x=\"409.97\" y=\"-14.3\" font-family=\"Times,serif\" font-size=\"14.00\">A1 = Sigmoid</text>\n",
       "</g>\n",
       "<!-- 1&#45;&gt;2 -->\n",
       "<g id=\"edge2\" class=\"edge\">\n",
       "<title>1&#45;&gt;2</title>\n",
       "<path fill=\"none\" stroke=\"black\" d=\"M311.65,-18C320.26,-18 328.91,-18 337.31,-18\"/>\n",
       "<polygon fill=\"black\" stroke=\"black\" points=\"337.41,-21.5 347.41,-18 337.41,-14.5 337.41,-21.5\"/>\n",
       "</g>\n",
       "<!-- 3 -->\n",
       "<g id=\"node4\" class=\"node\">\n",
       "<title>3</title>\n",
       "<ellipse fill=\"none\" stroke=\"black\" cx=\"600.01\" cy=\"-18\" rx=\"91.78\" ry=\"18\"/>\n",
       "<text text-anchor=\"middle\" x=\"600.01\" y=\"-14.3\" font-family=\"Times,serif\" font-size=\"14.00\">Z2 = Weighted Sum 2</text>\n",
       "</g>\n",
       "<!-- 2&#45;&gt;3 -->\n",
       "<g id=\"edge3\" class=\"edge\">\n",
       "<title>2&#45;&gt;3</title>\n",
       "<path fill=\"none\" stroke=\"black\" d=\"M472.54,-18C480.78,-18 489.39,-18 498.09,-18\"/>\n",
       "<polygon fill=\"black\" stroke=\"black\" points=\"498.31,-21.5 508.31,-18 498.31,-14.5 498.31,-21.5\"/>\n",
       "</g>\n",
       "<!-- 4 -->\n",
       "<g id=\"node5\" class=\"node\">\n",
       "<title>4</title>\n",
       "<ellipse fill=\"none\" stroke=\"black\" cx=\"790.04\" cy=\"-18\" rx=\"62.29\" ry=\"18\"/>\n",
       "<text text-anchor=\"middle\" x=\"790.04\" y=\"-14.3\" font-family=\"Times,serif\" font-size=\"14.00\">A2 = Softmax</text>\n",
       "</g>\n",
       "<!-- 3&#45;&gt;4 -->\n",
       "<g id=\"edge4\" class=\"edge\">\n",
       "<title>3&#45;&gt;4</title>\n",
       "<path fill=\"none\" stroke=\"black\" d=\"M691.72,-18C700.33,-18 708.98,-18 717.38,-18\"/>\n",
       "<polygon fill=\"black\" stroke=\"black\" points=\"717.48,-21.5 727.48,-18 717.48,-14.5 717.48,-21.5\"/>\n",
       "</g>\n",
       "</g>\n",
       "</svg>\n"
      ],
      "text/plain": [
       "<graphviz.graphs.Digraph at 0x154f778e0>"
      ]
     },
     "execution_count": 28,
     "metadata": {},
     "output_type": "execute_result"
    }
   ],
   "source": [
    "nn_impl_vis = Digraph()\n",
    "nn_impl_vis.graph_attr[\"rankdir\"] = \"LR\"\n",
    "nn_impl_vis.node(\"X\", \"X = Input\")\n",
    "nn_impl_vis.node(\"1\", \"Z1 = Weighted Sum 1\")\n",
    "nn_impl_vis.node(\"2\", \"A1 = Sigmoid\")\n",
    "nn_impl_vis.node(\"3\", \"Z2 = Weighted Sum 2\")\n",
    "nn_impl_vis.node(\"4\", \"A2 = Softmax\")\n",
    "\n",
    "nn_impl_vis.edges([\"X1\", \"12\", \"23\", \"34\"])\n",
    "nn_impl_vis"
   ]
  },
  {
   "attachments": {},
   "cell_type": "markdown",
   "metadata": {},
   "source": [
    "### X = Input Layer\n",
    "\n",
    "784 neurons, one for each pixel in any given input image\n",
    "\n",
    "Shape: (784, n)\n",
    "\n",
    "### Z1 = Hidden Layer 1 -> Weighted Sum\n",
    "\n",
    "$ Z1 = W1 * X + b1 $\n",
    "\n",
    "For now, we will randomly set values for W1 and B1. The size of this layer is 10.\n",
    "\n",
    "Shape:\n",
    "\n",
    "- W1: (10, 784)\n",
    "- b1: (10, 1)\n",
    "\n",
    "### A1 = Hiddel Layer 1 -> Activation Function\n",
    "\n",
    "$ A1 = Sigmoid(Z1) $\n",
    "\n",
    "Remember each neuron consists of both weighted sum and activation function. So we should think of A1 and Z1 as one group.\n",
    "\n",
    "Shape: (10, n)\n",
    "\n",
    "### Z2 = Output Layer -> Weighted Sum\n",
    "\n",
    "$ Z2 = W2 * A1 + b2 $\n",
    "\n",
    "10 layers, one for each digit [0,9]\n",
    "\n",
    "Shape: (10, n)\n",
    "\n",
    "### A2 = Output Layer -> Activation Function\n",
    "\n",
    "We use the softmax function (instead of the same activation function as A1) in order to ensure the final output is a probability that the input is one of the given options.\n",
    "\n",
    "$ A2 = softmax(Z2) $\n",
    "\n",
    "The output should look something like this:\n",
    "\n",
    "```\n",
    "predicted:  {\n",
    "    \"0\": 0.002285052335889073,\n",
    "    \"1\": 0.0021112562178389332,\n",
    "    ...\n",
    "    \"8\": 0.12941646239061635,\n",
    "    \"9\": 0.5603362502515766\n",
    "}\n",
    "```\n",
    "\n",
    "Shape: (10, n)\n",
    "\n",
    "### Commonly used conventions -> Y_hat\n",
    "\n",
    "The 'Ŷ' is often used in the literature to denote the prediction.\n",
    "\n",
    "$ A2 = Y_{hat} $\n",
    "\n",
    "### Human readable output\n",
    "\n",
    "We will use the symbol $ Y\\_{hum} $. This is not a common convention.\n",
    "\n",
    "$ Y_{hum} = argmax(Y_{hat}) $\n",
    "\n",
    "### End to End\n",
    "\n",
    "$\n",
    "Y_{hat} = A2 \\\\\n",
    "Y_{hat} = softmax(Z2) \\\\\n",
    "Y_{hat} = softmax(W2 * A1 + b2) \\\\\n",
    "Y_{hat} = softmax(W2 * Sigmoid(Z1) + b2) \\\\\n",
    "Y_{hat} = softmax(W2 * Sigmoid(W1 * X + b1) + b2)\n",
    "$\n"
   ]
  },
  {
   "cell_type": "code",
   "execution_count": 29,
   "metadata": {},
   "outputs": [
    {
     "data": {
      "image/svg+xml": [
       "<?xml version=\"1.0\" encoding=\"UTF-8\" standalone=\"no\"?>\n",
       "<!DOCTYPE svg PUBLIC \"-//W3C//DTD SVG 1.1//EN\"\n",
       " \"http://www.w3.org/Graphics/SVG/1.1/DTD/svg11.dtd\">\n",
       "<!-- Generated by graphviz version 2.48.0 (0)\n",
       " -->\n",
       "<!-- Pages: 1 -->\n",
       "<svg width=\"860pt\" height=\"44pt\"\n",
       " viewBox=\"0.00 0.00 860.44 44.00\" xmlns=\"http://www.w3.org/2000/svg\" xmlns:xlink=\"http://www.w3.org/1999/xlink\">\n",
       "<g id=\"graph0\" class=\"graph\" transform=\"scale(1 1) rotate(0) translate(4 40)\">\n",
       "<polygon fill=\"white\" stroke=\"transparent\" points=\"-4,4 -4,-40 856.44,-40 856.44,4 -4,4\"/>\n",
       "<!-- X -->\n",
       "<g id=\"node1\" class=\"node\">\n",
       "<title>X</title>\n",
       "<ellipse fill=\"none\" stroke=\"black\" cx=\"46.15\" cy=\"-18\" rx=\"46.29\" ry=\"18\"/>\n",
       "<text text-anchor=\"middle\" x=\"46.15\" y=\"-14.3\" font-family=\"Times,serif\" font-size=\"14.00\">X = Input</text>\n",
       "</g>\n",
       "<!-- 1 -->\n",
       "<g id=\"node2\" class=\"node\">\n",
       "<title>1</title>\n",
       "<ellipse fill=\"none\" stroke=\"black\" cx=\"219.93\" cy=\"-18\" rx=\"91.78\" ry=\"18\"/>\n",
       "<text text-anchor=\"middle\" x=\"219.93\" y=\"-14.3\" font-family=\"Times,serif\" font-size=\"14.00\">Z1 = Weighted Sum 1</text>\n",
       "</g>\n",
       "<!-- X&#45;&gt;1 -->\n",
       "<g id=\"edge1\" class=\"edge\">\n",
       "<title>X&#45;&gt;1</title>\n",
       "<path fill=\"none\" stroke=\"black\" d=\"M92.73,-18C100.75,-18 109.37,-18 118.21,-18\"/>\n",
       "<polygon fill=\"black\" stroke=\"black\" points=\"118.26,-21.5 128.26,-18 118.26,-14.5 118.26,-21.5\"/>\n",
       "</g>\n",
       "<!-- 2 -->\n",
       "<g id=\"node3\" class=\"node\">\n",
       "<title>2</title>\n",
       "<ellipse fill=\"none\" stroke=\"black\" cx=\"409.97\" cy=\"-18\" rx=\"62.29\" ry=\"18\"/>\n",
       "<text text-anchor=\"middle\" x=\"409.97\" y=\"-14.3\" font-family=\"Times,serif\" font-size=\"14.00\">A1 = Sigmoid</text>\n",
       "</g>\n",
       "<!-- 1&#45;&gt;2 -->\n",
       "<g id=\"edge2\" class=\"edge\">\n",
       "<title>1&#45;&gt;2</title>\n",
       "<path fill=\"none\" stroke=\"black\" d=\"M311.65,-18C320.26,-18 328.91,-18 337.31,-18\"/>\n",
       "<polygon fill=\"black\" stroke=\"black\" points=\"337.41,-21.5 347.41,-18 337.41,-14.5 337.41,-21.5\"/>\n",
       "</g>\n",
       "<!-- 3 -->\n",
       "<g id=\"node4\" class=\"node\">\n",
       "<title>3</title>\n",
       "<ellipse fill=\"none\" stroke=\"black\" cx=\"600.01\" cy=\"-18\" rx=\"91.78\" ry=\"18\"/>\n",
       "<text text-anchor=\"middle\" x=\"600.01\" y=\"-14.3\" font-family=\"Times,serif\" font-size=\"14.00\">Z2 = Weighted Sum 2</text>\n",
       "</g>\n",
       "<!-- 2&#45;&gt;3 -->\n",
       "<g id=\"edge3\" class=\"edge\">\n",
       "<title>2&#45;&gt;3</title>\n",
       "<path fill=\"none\" stroke=\"black\" d=\"M472.54,-18C480.78,-18 489.39,-18 498.09,-18\"/>\n",
       "<polygon fill=\"black\" stroke=\"black\" points=\"498.31,-21.5 508.31,-18 498.31,-14.5 498.31,-21.5\"/>\n",
       "</g>\n",
       "<!-- 4 -->\n",
       "<g id=\"node5\" class=\"node\">\n",
       "<title>4</title>\n",
       "<ellipse fill=\"none\" stroke=\"black\" cx=\"790.04\" cy=\"-18\" rx=\"62.29\" ry=\"18\"/>\n",
       "<text text-anchor=\"middle\" x=\"790.04\" y=\"-14.3\" font-family=\"Times,serif\" font-size=\"14.00\">A2 = Softmax</text>\n",
       "</g>\n",
       "<!-- 3&#45;&gt;4 -->\n",
       "<g id=\"edge4\" class=\"edge\">\n",
       "<title>3&#45;&gt;4</title>\n",
       "<path fill=\"none\" stroke=\"black\" d=\"M691.72,-18C700.33,-18 708.98,-18 717.38,-18\"/>\n",
       "<polygon fill=\"black\" stroke=\"black\" points=\"717.48,-21.5 727.48,-18 717.48,-14.5 717.48,-21.5\"/>\n",
       "</g>\n",
       "</g>\n",
       "</svg>\n"
      ],
      "text/plain": [
       "<graphviz.graphs.Digraph at 0x154f778e0>"
      ]
     },
     "execution_count": 29,
     "metadata": {},
     "output_type": "execute_result"
    }
   ],
   "source": [
    "nn_impl_vis"
   ]
  },
  {
   "attachments": {},
   "cell_type": "markdown",
   "metadata": {},
   "source": [
    "### Step 1. Preprocess Data\n",
    "1. Split `train.csv` into the training dataset, and the validation dataset. We will fit a model to the training data and measure \n",
    "performance on the validation data.\n",
    "\n",
    "2. Normailze values to be between [0,1)"
   ]
  },
  {
   "cell_type": "code",
   "execution_count": 30,
   "metadata": {},
   "outputs": [
    {
     "data": {
      "image/png": "[encoded data removed]",
      "text/plain": [
       "<Figure size 250x250 with 1 Axes>"
      ]
     },
     "metadata": {},
     "output_type": "display_data"
    }
   ],
   "source": [
    "np.random.shuffle(data)\n",
    "m, n = data.shape\n",
    "num_examples, num_pixels = m, n - 1\n",
    "\n",
    "validation_data_size = 10000\n",
    "validation_data = data[0:validation_data_size].T\n",
    "train_data = data[validation_data_size:].T\n",
    "\n",
    "\n",
    "def get_x_y(matrix):\n",
    "    def normalize(input):\n",
    "        return input / 255.0\n",
    "\n",
    "    X = normalize(matrix[1:])\n",
    "    Y = matrix[0]\n",
    "\n",
    "    return X, Y\n",
    "\n",
    "\n",
    "X_val, Y_val = get_x_y(validation_data)\n",
    "X_train, Y_train = get_x_y(train_data)\n",
    "\n",
    "show_image(X_train.T[random.randint(0, len(X_train))])"
   ]
  },
  {
   "attachments": {},
   "cell_type": "markdown",
   "metadata": {},
   "source": [
    "### Step 2. Initialize Weights and Biases\n"
   ]
  },
  {
   "cell_type": "code",
   "execution_count": 31,
   "metadata": {},
   "outputs": [],
   "source": [
    "def init_params():\n",
    "    \"\"\"\n",
    "    rand returns values between [0, 1). Subtract 0.5 to ensure symmetrical range from [-0.5, 0.5)\n",
    "    \"\"\"\n",
    "    W1 = np.random.rand(10, 784) - 0.5\n",
    "    b1 = np.random.rand(10, 1) - 0.5\n",
    "    W2 = np.random.rand(10, 10) - 0.5\n",
    "    b2 = np.random.rand(10, 1) - 0.5\n",
    "    return W1, b1, W2, b2\n",
    "\n",
    "\n",
    "W1, b1, W2, b2 = init_params()"
   ]
  },
  {
   "attachments": {},
   "cell_type": "markdown",
   "metadata": {},
   "source": [
    "### Step 3. Define Activation Functions"
   ]
  },
  {
   "cell_type": "code",
   "execution_count": 32,
   "metadata": {},
   "outputs": [
    {
     "data": {
      "image/svg+xml": [
       "<?xml version=\"1.0\" encoding=\"UTF-8\" standalone=\"no\"?>\n",
       "<!DOCTYPE svg PUBLIC \"-//W3C//DTD SVG 1.1//EN\"\n",
       " \"http://www.w3.org/Graphics/SVG/1.1/DTD/svg11.dtd\">\n",
       "<!-- Generated by graphviz version 2.48.0 (0)\n",
       " -->\n",
       "<!-- Pages: 1 -->\n",
       "<svg width=\"860pt\" height=\"44pt\"\n",
       " viewBox=\"0.00 0.00 860.44 44.00\" xmlns=\"http://www.w3.org/2000/svg\" xmlns:xlink=\"http://www.w3.org/1999/xlink\">\n",
       "<g id=\"graph0\" class=\"graph\" transform=\"scale(1 1) rotate(0) translate(4 40)\">\n",
       "<polygon fill=\"white\" stroke=\"transparent\" points=\"-4,4 -4,-40 856.44,-40 856.44,4 -4,4\"/>\n",
       "<!-- X -->\n",
       "<g id=\"node1\" class=\"node\">\n",
       "<title>X</title>\n",
       "<ellipse fill=\"none\" stroke=\"black\" cx=\"46.15\" cy=\"-18\" rx=\"46.29\" ry=\"18\"/>\n",
       "<text text-anchor=\"middle\" x=\"46.15\" y=\"-14.3\" font-family=\"Times,serif\" font-size=\"14.00\">X = Input</text>\n",
       "</g>\n",
       "<!-- 1 -->\n",
       "<g id=\"node2\" class=\"node\">\n",
       "<title>1</title>\n",
       "<ellipse fill=\"none\" stroke=\"black\" cx=\"219.93\" cy=\"-18\" rx=\"91.78\" ry=\"18\"/>\n",
       "<text text-anchor=\"middle\" x=\"219.93\" y=\"-14.3\" font-family=\"Times,serif\" font-size=\"14.00\">Z1 = Weighted Sum 1</text>\n",
       "</g>\n",
       "<!-- X&#45;&gt;1 -->\n",
       "<g id=\"edge1\" class=\"edge\">\n",
       "<title>X&#45;&gt;1</title>\n",
       "<path fill=\"none\" stroke=\"black\" d=\"M92.73,-18C100.75,-18 109.37,-18 118.21,-18\"/>\n",
       "<polygon fill=\"black\" stroke=\"black\" points=\"118.26,-21.5 128.26,-18 118.26,-14.5 118.26,-21.5\"/>\n",
       "</g>\n",
       "<!-- 2 -->\n",
       "<g id=\"node3\" class=\"node\">\n",
       "<title>2</title>\n",
       "<ellipse fill=\"none\" stroke=\"black\" cx=\"409.97\" cy=\"-18\" rx=\"62.29\" ry=\"18\"/>\n",
       "<text text-anchor=\"middle\" x=\"409.97\" y=\"-14.3\" font-family=\"Times,serif\" font-size=\"14.00\">A1 = Sigmoid</text>\n",
       "</g>\n",
       "<!-- 1&#45;&gt;2 -->\n",
       "<g id=\"edge2\" class=\"edge\">\n",
       "<title>1&#45;&gt;2</title>\n",
       "<path fill=\"none\" stroke=\"black\" d=\"M311.65,-18C320.26,-18 328.91,-18 337.31,-18\"/>\n",
       "<polygon fill=\"black\" stroke=\"black\" points=\"337.41,-21.5 347.41,-18 337.41,-14.5 337.41,-21.5\"/>\n",
       "</g>\n",
       "<!-- 3 -->\n",
       "<g id=\"node4\" class=\"node\">\n",
       "<title>3</title>\n",
       "<ellipse fill=\"none\" stroke=\"black\" cx=\"600.01\" cy=\"-18\" rx=\"91.78\" ry=\"18\"/>\n",
       "<text text-anchor=\"middle\" x=\"600.01\" y=\"-14.3\" font-family=\"Times,serif\" font-size=\"14.00\">Z2 = Weighted Sum 2</text>\n",
       "</g>\n",
       "<!-- 2&#45;&gt;3 -->\n",
       "<g id=\"edge3\" class=\"edge\">\n",
       "<title>2&#45;&gt;3</title>\n",
       "<path fill=\"none\" stroke=\"black\" d=\"M472.54,-18C480.78,-18 489.39,-18 498.09,-18\"/>\n",
       "<polygon fill=\"black\" stroke=\"black\" points=\"498.31,-21.5 508.31,-18 498.31,-14.5 498.31,-21.5\"/>\n",
       "</g>\n",
       "<!-- 4 -->\n",
       "<g id=\"node5\" class=\"node\">\n",
       "<title>4</title>\n",
       "<ellipse fill=\"none\" stroke=\"black\" cx=\"790.04\" cy=\"-18\" rx=\"62.29\" ry=\"18\"/>\n",
       "<text text-anchor=\"middle\" x=\"790.04\" y=\"-14.3\" font-family=\"Times,serif\" font-size=\"14.00\">A2 = Softmax</text>\n",
       "</g>\n",
       "<!-- 3&#45;&gt;4 -->\n",
       "<g id=\"edge4\" class=\"edge\">\n",
       "<title>3&#45;&gt;4</title>\n",
       "<path fill=\"none\" stroke=\"black\" d=\"M691.72,-18C700.33,-18 708.98,-18 717.38,-18\"/>\n",
       "<polygon fill=\"black\" stroke=\"black\" points=\"717.48,-21.5 727.48,-18 717.48,-14.5 717.48,-21.5\"/>\n",
       "</g>\n",
       "</g>\n",
       "</svg>\n"
      ],
      "text/plain": [
       "<graphviz.graphs.Digraph at 0x154f778e0>"
      ]
     },
     "execution_count": 32,
     "metadata": {},
     "output_type": "execute_result"
    }
   ],
   "source": [
    "nn_impl_vis"
   ]
  },
  {
   "cell_type": "code",
   "execution_count": 33,
   "metadata": {},
   "outputs": [],
   "source": [
    "def sigmoid(input):\n",
    "    return 1 / (1 + np.exp(-input))\n",
    "\n",
    "\n",
    "def softmax(input):\n",
    "    return np.exp(input) / np.exp(input).sum(axis=0, keepdims=True)\n",
    "\n",
    "\n",
    "def get_human_readable_prediction(Y_hat):\n",
    "    return np.argmax(Y_hat, 0)"
   ]
  },
  {
   "attachments": {},
   "cell_type": "markdown",
   "metadata": {},
   "source": [
    "### Step 4. Forward propagation"
   ]
  },
  {
   "cell_type": "code",
   "execution_count": 34,
   "metadata": {},
   "outputs": [],
   "source": [
    "def forward(X, W1, b1, W2, b2):\n",
    "    Z1 = W1.dot(X) + b1\n",
    "    A1 = sigmoid(Z1)\n",
    "    Z2 = W2.dot(A1) + b2\n",
    "    Y_hat = softmax(Z2)\n",
    "    return Z1, A1, Z2, Y_hat\n",
    "\n",
    "\n",
    "Z1, A1, Z2, Y_hat = forward(X_train, W1, b1, W2, b2)\n",
    "Y_hum = get_human_readable_prediction(Y_hat)"
   ]
  },
  {
   "attachments": {},
   "cell_type": "markdown",
   "metadata": {},
   "source": [
    "### Step 5. Audit Results\n",
    "\n",
    "What do you think our accuracy is given we randomally initialized the weights and biases?\n",
    "\n",
    "Let's first look at the predicted result, and the actual result. Note that we will express the actual result in a \"one-hot\" encoded format.\n",
    "\n",
    "In one-hot encodings, only one position is \"hot\", while all others are zero."
   ]
  },
  {
   "cell_type": "code",
   "execution_count": 35,
   "metadata": {},
   "outputs": [
    {
     "name": "stdout",
     "output_type": "stream",
     "text": [
      "predicted:  {\n",
      "    \"0\": 0.05905948783152979,\n",
      "    \"1\": 0.06274394722871603,\n",
      "    \"2\": 0.1430820575032908,\n",
      "    \"3\": 0.16667098372824396,\n",
      "    \"4\": 0.0785915999896603,\n",
      "    \"5\": 0.0565904123259883,\n",
      "    \"6\": 0.3071298263639981,\n",
      "    \"7\": 0.06920830156606073,\n",
      "    \"8\": 0.015179435852722084,\n",
      "    \"9\": 0.04174394760978998\n",
      "}\n",
      "actual:  {\n",
      "    \"0\": 0.0,\n",
      "    \"1\": 0.0,\n",
      "    \"2\": 0.0,\n",
      "    \"3\": 0.0,\n",
      "    \"4\": 1.0,\n",
      "    \"5\": 0.0,\n",
      "    \"6\": 0.0,\n",
      "    \"7\": 0.0,\n",
      "    \"8\": 0.0,\n",
      "    \"9\": 0.0\n",
      "}\n"
     ]
    },
    {
     "data": {
      "image/png": "[encoded data removed]",
      "text/plain": [
       "<Figure size 250x250 with 1 Axes>"
      ]
     },
     "metadata": {},
     "output_type": "display_data"
    }
   ],
   "source": [
    "import json\n",
    "\n",
    "digit_to_prob = dict([(i, p) for i, p in enumerate(list(Y_hat.T[0]))])\n",
    "print(\"predicted: \", json.dumps(digit_to_prob, indent=4))\n",
    "\n",
    "answer = dict([(i, 0.0) for i in range(0, 10)])\n",
    "answer[Y_train[0]] = 1.0\n",
    "print(\"actual: \", json.dumps(answer, indent=4))\n",
    "show_image(X_train.T[0])"
   ]
  },
  {
   "cell_type": "code",
   "execution_count": 36,
   "metadata": {},
   "outputs": [
    {
     "name": "stdout",
     "output_type": "stream",
     "text": [
      "Accuracy:  0.09434375\n",
      "Predicted:  [6 6 6 ... 6 6 6]\n",
      "Actual:  [4 0 5 ... 8 5 9]\n"
     ]
    }
   ],
   "source": [
    "def get_accuracy(Y_hat_hum, Y_truth_hum):\n",
    "    assert len(Y_hat_hum) == len(Y_truth_hum)\n",
    "    return np.sum(Y_hat_hum == Y_truth_hum) / Y_truth_hum.size\n",
    "\n",
    "\n",
    "print(\"Accuracy: \", get_accuracy(Y_hum, Y_train))\n",
    "print(\"Predicted: \", Y_hum)\n",
    "print(\"Actual: \", Y_train)"
   ]
  },
  {
   "attachments": {},
   "cell_type": "markdown",
   "metadata": {},
   "source": [
    "# Great Success!\n",
    "\n",
    "We just successfully implemented an MLP! Its performance is literally random, but that's okay! The structure is 100% reminiscent of a model you would deploy in prodcution for inference!\n",
    "\n",
    "### Conceptual Checkpoint\n",
    "\n",
    "1. If our co-worker from a different team wants us to share our model so that they can use it on their own dataset, at the bare minimum, what do we need to share?\n",
    "\n",
    "2. What parts of the MLP are highly reusable? And what parts are very application specific?\n",
    "\n",
    "3. What are alternative ways to set the weights to do better than random?\n"
   ]
  },
  {
   "attachments": {},
   "cell_type": "markdown",
   "metadata": {},
   "source": [
    "# Going back to tune the weights and biases\n",
    "\n",
    "Brief aside to an analagy. Imagine you are trying to find the perfect water temperature for a shower.\n",
    "\n",
    "![shower lever](https://encrypted-tbn0.gstatic.com/images?q=tbn:ANd9GcT7fVauofLAnNZ2cPFCGkhQkoXufZJm7oQ_MIcqwXOKhLQqEo46V3LKpJH7h-VPHVIweZI&usqp=CAU)\n",
    "\n",
    "1. You start by moving the knob to some position you think will work\n",
    "2. You turn on the water\n",
    "3. You test the result by feeling the water with your hand\n",
    "4. You update the lever based on what you felt.\n",
    "\n",
    "   a. If the water was WAY too cold, you know to make a large adjustment\n",
    "\n",
    "   b. If the water was a little too cold, you make a small adjustment\n",
    "\n",
    "   c. vice versa for when the water is too hot\n",
    "\n",
    "5. Repeat steps 2-4 until you converge to the perfect water temperature\n",
    "\n",
    "We can think of weights and biases as the shower lever. Let's pretend we have a mechanism that informs us on how much we need to adjust the weights and biases by based on how far off the predictions are from the truth. In this case, our process would be similar to the above shower example. We start with randomly initialized weights. Predict. Measure how bad the accuracy is. Go back and change the weights and biases. Predict. Measure again.\n",
    "\n",
    "This process actually exists! We can use Gradient Descent to find the optimal values for the weights and biases.\n",
    "\n",
    "### Gradient Descent; An Overview\n",
    "Gradient descent, in the context of an artificial network, conists of a few key components:\n",
    "\n",
    "1. Cost function\n",
    "2. Backpropagation to calculate the optimal \"direction\" to step in to minimize the cost.\n",
    "3. Take a small \"step\" in the aforementioned direction\n",
    "4. Repeat until convergence\n",
    "\n",
    "We define a cost function that we want to minimize. We then calculate the change in cost with respect to the weights and biases, aka the gradient. The gradient tells us the direction of the largest ascent. We then take a small step in the opposite direction and update our weights and biases accordingly.\n",
    "\n",
    "![gd flow (should only be rendered if viewing notebook via jupyter server)](./img/gd_flow.png)\n",
    "![gd flow (should only be rendered if viewing on static site)](../img/gd_flow.png)\n",
    "\n",
    "### 1. Cost (aka Loss) Function\n",
    "\n",
    "To update the weights, we first need to understand how much we need to update by (similar to the shower example, this is an informed \"guess\"), and in what direction.\n",
    "\n",
    "Enter the cost (aka loss) function.\n",
    "\n",
    "Let's first look at the Mean Squared Error function. This is NOT the cosst function we will implement, but serves to demonstrate the purpose of a cost function well:\n",
    "\n",
    "![MSE](https://miro.medium.com/v2/resize:fit:640/format:webp/1*SGhoeJ_BgcfqU06CmX41rw.png)\n",
    "\n",
    "Reminder: here is the output of our model:\n"
   ]
  },
  {
   "cell_type": "code",
   "execution_count": 37,
   "metadata": {},
   "outputs": [
    {
     "name": "stdout",
     "output_type": "stream",
     "text": [
      "predicted:  {\n",
      "    \"0\": 0.05905948783152979,\n",
      "    \"1\": 0.06274394722871603,\n",
      "    \"2\": 0.1430820575032908,\n",
      "    \"3\": 0.16667098372824396,\n",
      "    \"4\": 0.0785915999896603,\n",
      "    \"5\": 0.0565904123259883,\n",
      "    \"6\": 0.3071298263639981,\n",
      "    \"7\": 0.06920830156606073,\n",
      "    \"8\": 0.015179435852722084,\n",
      "    \"9\": 0.04174394760978998\n",
      "}\n",
      "actual:  {\n",
      "    \"0\": 0.0,\n",
      "    \"1\": 0.0,\n",
      "    \"2\": 0.0,\n",
      "    \"3\": 0.0,\n",
      "    \"4\": 1.0,\n",
      "    \"5\": 0.0,\n",
      "    \"6\": 0.0,\n",
      "    \"7\": 0.0,\n",
      "    \"8\": 0.0,\n",
      "    \"9\": 0.0\n",
      "}\n"
     ]
    }
   ],
   "source": [
    "print(\"predicted: \", json.dumps(digit_to_prob, indent=4))\n",
    "print(\"actual: \", json.dumps(answer, indent=4))"
   ]
  },
  {
   "attachments": {},
   "cell_type": "markdown",
   "metadata": {},
   "source": [
    "Let's look at an example of what inputs create large MSE values.\n",
    "\n",
    "```\n",
    "predicted:  {\n",
    "    \"0\": 1.0\n",
    "    \"1\": 0.0\n",
    "    ...\n",
    "    \"9\": 0.0\n",
    "}\n",
    "actual:  {\n",
    "    \"0\": 0.0,\n",
    "    \"1\": 1.0,\n",
    "    \"2\": 0.0,\n",
    "    ...\n",
    "    \"9\": 0.0\n",
    "}\n",
    "\n",
    "(actual - predicted)^2:\n",
    "{\n",
    "    \"0\": 1.0,\n",
    "    \"1\": 1.0\n",
    "    ...\n",
    "    \"9\": 0.0\n",
    "}\n",
    "```\n",
    "\n",
    "`sum(actual - predicted)^2 = 2`\n",
    "\n",
    "Observe how vastly wrong predictions result in large values in (actual - predicted). Another nice property of MSE is that we penalize larger differences more severely than small ones since we square the difference, and larger differences degrade exponentially as quickly as smaller differences. Now let's look at an input that creates small MSE values.\n",
    "\n",
    "```\n",
    "predicted:  {\n",
    "    \"0\": 1.0\n",
    "    \"1\": 0.0\n",
    "    ...\n",
    "    \"9\": 0.0\n",
    "}\n",
    "actual:  {\n",
    "    \"0\": 1.0\n",
    "    \"1\": 0.0\n",
    "    ...\n",
    "    \"9\": 0.0\n",
    "}\n",
    "\n",
    "(actual - predicted)^2:\n",
    "{\n",
    "    \"0\": 0.0,\n",
    "    \"1\": 0.0\n",
    "    ...\n",
    "    \"9\": 0.0\n",
    "}\n",
    "```\n",
    "\n",
    "`sum(actual - predicted)^2 = 0`\n",
    "\n",
    "Observe how perfect predictions result in 0 when we take (actual - predicted).\n",
    "\n",
    "**Conclusion: we want a small value for the cost function.**\n",
    "\n",
    "In our implementation, we will not be using MSE. Instead, we will use **cross entropy** loss (aka softmax loss aka negative log likelihood) because its derivative combines super nicely with the derivative of the softmax.\n",
    "\n",
    "Cross Entropy Loss:\n",
    "![cross entropy loss](https://www.oreilly.com/api/v2/epubs/9781789130331/files/assets/b53e5bab-5f7a-4cf0-b749-92b36255f365.png)\n",
    "\n",
    "Though the properties of this function are different from MSE, the trends and objectives remains the same. Bad predictions result in large values, and we want to optimize for small values.\n",
    "\n",
    "Note that in our implementation, we will take the mean instead of the sum. Taking the mean is advantagous for adjusting the rest of the system (we won't cover why, but reasons are expanded upon [here](https://stats.stackexchange.com/questions/306862/cross-entropy-versus-mean-of-cross-entropy)). Mathmatically, we can think of the mean as a scalar times a sum, so the same properties are preserved."
   ]
  },
  {
   "cell_type": "code",
   "execution_count": 38,
   "metadata": {},
   "outputs": [
    {
     "name": "stdout",
     "output_type": "stream",
     "text": [
      "0.24443884729220428\n"
     ]
    }
   ],
   "source": [
    "def to_one_hot(Y: np.array):\n",
    "    res = np.zeros((Y.size, Y.max() + 1))\n",
    "    res[np.arange(Y.size), Y] = 1\n",
    "    return res.T\n",
    "\n",
    "\n",
    "def cross_entropy_loss(predicted_probs, one_hot_labels):\n",
    "    Y_hat, Y = predicted_probs, one_hot_labels\n",
    "    avoid_divide_by_zero_term = 1e-8\n",
    "    return -np.mean(np.log(Y_hat + avoid_divide_by_zero_term) * Y)\n",
    "\n",
    "Y_truth_one_hot = to_one_hot(Y_train)\n",
    "print(cross_entropy_loss(Y_hat, Y_truth_one_hot))"
   ]
  },
  {
   "attachments": {},
   "cell_type": "markdown",
   "metadata": {},
   "source": [
    "\n",
    "### 2. Back-propagation\n",
    "\n",
    "Backpropagation's goal is to **determine how to change the weights and biases in order to minimize the cost function output.** \n",
    "In mathematical terms, we are calulating the gradient of C with respect to W2, b2, W1, and b1.\n",
    "\n",
    "Required math pre-reqs:\n",
    "\n",
    "- single-variable calculus: understand that the derivative is the rate that y changes with respect to x (how y changes when x changes)\n",
    "- multi-variable calculus: chain rule\n",
    "- multi-variable calculus: partial derivites and gradient vector (for every variable, assume all other variables are constant, store the per-variable results in a vector)\n",
    "\n",
    "First, let's calculate how the loss changes with respect to the weights and biases. Translating aforementioned sentence to math, we arrive at the below formulas:\n",
    "\n",
    "$ C = cost function(W^{[2]}, B^{[2]}, W^{[1]}, B^{[1]}) $\n",
    "\n",
    "$ dW^{[2]} = \\frac{\\partial C}{\\partial W^{[2]}} = \\frac{\\partial C}{\\partial Y_{hat}} * \\frac{\\partial Y_{hat}}{\\partial Z^{[2]}} * \\frac{\\partial Z^{[2]}}{\\partial W^{[2]}} $\n",
    "\n",
    "$ dB^{[2]} = \\frac{\\partial C}{\\partial B^{[2]}} = \\frac{\\partial C}{\\partial Y_{hat}} * \\frac{\\partial Y_{hat}}{\\partial Z^{[2]}} * \\frac{\\partial Z^{[2]}}{\\partial B^{[2]}} $\n",
    "\n",
    "$ dW^{[1]} = \\frac{\\partial C}{\\partial W^{[1]}} = \\frac{\\partial C}{\\partial Y_{hat}} * \\frac{\\partial Y_{hat}}{\\partial Z^{[2]}} * \\frac{\\partial Z^{[2]}}{\\partial A^{[1]}} * \\frac{\\partial A^{[1]}}{\\partial Z^{[1]}} * \\frac{\\partial Z^{[1]}}{\\partial W^{[1]}}$\n",
    "\n",
    "$ dB^{[1]} = \\frac{\\partial C}{\\partial B^{[1]}} = \\frac{\\partial C}{\\partial Y_{hat}} * \\frac{\\partial Y_{hat}}{\\partial Z^{[2]}} * \\frac{\\partial Z^{[2]}}{\\partial A^{[1]}} * \\frac{\\partial A^{[1]}}{\\partial Z^{[1]}} * \\frac{\\partial Z^{[1]}}{\\partial B^{[1]}}$\n",
    "\n",
    "Next, let's calculate the value of each of the individual terms:\n",
    "\n",
    "---\n",
    "**dW2, and db2**\n",
    "\n",
    "$ dW^{[2]} = \\frac{\\partial C}{\\partial W^{[2]}} = \\frac{\\partial C}{\\partial Y_{hat}} * \\frac{\\partial Y_{hat}}{\\partial Z^{[2]}} * \\frac{\\partial Z^{[2]}}{\\partial W^{[2]}} $\n",
    "\n",
    "We can compute dW2 by first evaluting each partial derivate in above formula, and multiplying them together.\n",
    "\n",
    "$ \\frac{\\partial C}{\\partial Y_{hat}} * \\frac{\\partial Y_{hat}}{\\partial Z^{[2]}} $ simplifies super nicely into $ Y_{hat} - Y_{truth} $, the derivation is detailed in this [video](https://www.youtube.com/watch?v=5-rVLSc2XdE). Here are some good written resources: [link](https://eli.thegreenplace.net/2016/the-softmax-function-and-its-derivative/), [link](https://deepnotes.io/softmax-crossentropy#cross-entropy-loss), [link](https://themaverickmeerkat.com/2019-10-23-Softmax/).\n",
    "\n",
    "$ \\frac{\\partial Z^{[2]}}{\\partial W^{[2]}} $ is the partial derivative of $ W2 * A1 + B1 wrt W2 $, which evaluates to $ A1 $\n",
    "\n",
    "Hence, dW2 = (Y_hat - Y_truth) * A1\n",
    "\n",
    "Similarly, dB2 = (Y_hat - Y_truth) * partial_deriv(Z2 wrt B) = (Y_hat - Y_truth) * 1\n",
    "\n",
    "In our implementation, we need to take the sum of dB2 in order to match the dimensions with B2.\n",
    "\n",
    "---\n",
    "\n",
    "**dW1, and db1**\n",
    "\n",
    "We can reuse the $ \\frac{\\partial C}{\\partial Y*{hat}} * \\frac{\\partial Y_{hat}}{\\partial Z^{[2]}} $ term calculated above. The partial derivate of Z1 wrt to W1, wrt B1, and wrt A1 are very similar to dW2 and dB2 above. The new term is $ \\frac{\\partial A^{[1]}}{\\partial Z^{[1]}} $, which is the partial derivative of the ReLU activation function (good resource [here](https://kawahara.ca/what-is-the-derivative-of-relu/)).\n",
    "\n",
    "---\n",
    "\n",
    "**An Extra 1/m term**\n",
    "\n",
    "We elected to modify the cross entropy loss function by replacing the sum operator with the mean operator. As a result, the resulting derivatives will have a constant of 1/m. dW2, db2, dW1, and db1 should all be multiplied by 1/num_examples"
   ]
  },
  {
   "cell_type": "code",
   "execution_count": 39,
   "metadata": {},
   "outputs": [
    {
     "name": "stdout",
     "output_type": "stream",
     "text": [
      "(10, 10) (10, 1) (10, 784) (10, 1)\n"
     ]
    }
   ],
   "source": [
    "def sigmoid_derivative(input):\n",
    "    s = 1 / (1 + np.exp(input))\n",
    "    return s * (1 - s)\n",
    "\n",
    "\n",
    "num_train_examples = num_examples - validation_data_size\n",
    "def backward(Y_truth_one_hot, Y_hat, Z2, A1, Z1, W2, W1, X):\n",
    "    dZ2 = Y_hat - Y_truth_one_hot\n",
    "    dW2 = 1 / num_train_examples * dZ2.dot(A1.T)\n",
    "    db2 = 1 / num_train_examples * np.sum(dZ2, axis=1, keepdims=True)\n",
    "    dZ1 = W2.T.dot(dZ2) * sigmoid_derivative(Z1)\n",
    "    dW1 = 1 / num_train_examples * dZ1.dot(X.T)\n",
    "    db1 = 1 / num_train_examples * np.sum(dZ1, axis=1, keepdims=True)\n",
    "\n",
    "    return dW2, db2, dW1, db1\n",
    "\n",
    "\n",
    "dW2, db2, dW1, db1 = backward(to_one_hot(Y_train), Y_hat, Z2, A1, Z1, W2, W1, X_train)\n",
    "print(dW2.shape, db2.shape, dW1.shape, db1.shape)"
   ]
  },
  {
   "attachments": {},
   "cell_type": "markdown",
   "metadata": {},
   "source": [
    "### 3. Update Params (take a small step in optimal direction)\n",
    "\n",
    "The gradient (all the above partial derivaties) informs us on the best direction to move in, but we don't know how far. Thus, in gradient descent, we take frequent steps, re-evaluate, and repeat. The step size is called the learning rate. Small steps can lead to longer times to converge, and overly large steps may oscillate around the optimal point (too far left in one iteration, overcorrects by too much and is too far right in the next, and then too far left again).\n",
    "\n",
    "The learning rate is an instance of a **hyper-parameter**, which is a paramater the model cannot learn. Practitioners set this value using existing heuristics.\n",
    "\n",
    "Here is an example of how we would update the weights:\n",
    "\n",
    "```\n",
    "W2 = W2 - learning_rate * dW2\n",
    "```"
   ]
  },
  {
   "cell_type": "code",
   "execution_count": 40,
   "metadata": {},
   "outputs": [
    {
     "name": "stdout",
     "output_type": "stream",
     "text": [
      "[False  True]\n",
      "(10, 784)\n"
     ]
    }
   ],
   "source": [
    "def update_params(W2, b2, W1, b1, dW2, db2, dW1, db1, learning_rate):\n",
    "    W2 = W2 - learning_rate * dW2\n",
    "    b2 = b2 - learning_rate * db2\n",
    "    W1 = W1 - learning_rate * dW1\n",
    "    b1 = b1 - learning_rate * db1\n",
    "    return W2, b2, W1, b1\n",
    "\n",
    "\n",
    "W2_new, b2_new, W1_new, b1_new = update_params(W2, b2, W1, b1, dW2, db2, dW1, db1, 0.10)\n",
    "print(np.unique(W1_new == W1))\n",
    "print(dW1.shape)"
   ]
  },
  {
   "attachments": {},
   "cell_type": "markdown",
   "metadata": {},
   "source": [
    "### 4. Repeate until convergence\n",
    "\n",
    "In this implementation, we will run a set number of iterations.\n",
    "\n",
    "# Let's start model training!"
   ]
  },
  {
   "cell_type": "code",
   "execution_count": 41,
   "metadata": {},
   "outputs": [
    {
     "name": "stdout",
     "output_type": "stream",
     "text": [
      "Iteration:  0\n",
      "accuracy:  0.10559375\n",
      "Iteration:  100\n",
      "accuracy:  0.37753125\n",
      "Iteration:  200\n",
      "accuracy:  0.53871875\n",
      "Iteration:  300\n",
      "accuracy:  0.61465625\n",
      "Iteration:  400\n",
      "accuracy:  0.67065625\n",
      "Iteration:  500\n",
      "accuracy:  0.71353125\n",
      "Iteration:  600\n",
      "accuracy:  0.7429375\n",
      "Iteration:  700\n",
      "accuracy:  0.76665625\n",
      "Iteration:  800\n",
      "accuracy:  0.78621875\n",
      "Iteration:  900\n",
      "accuracy:  0.80228125\n"
     ]
    }
   ],
   "source": [
    "def grad_descent(X, Y, learning_rate, num_iters):\n",
    "    Y_truth_one_hot = to_one_hot(Y)\n",
    "    W1, b1, W2, b2 = init_params()\n",
    "    for i in range(num_iters):\n",
    "        Z1, A1, Z2, Y_hat = forward(X, W1, b1, W2, b2)\n",
    "        dW2, db2, dW1, db1 = backward(Y_truth_one_hot, Y_hat, Z2, A1, Z1, W2, W1, X)\n",
    "        W2, b2, W1, b1 = update_params(\n",
    "            W2, b2, W1, b1, dW2, db2, dW1, db1, learning_rate\n",
    "        )\n",
    "\n",
    "        if i % 100 == 0:\n",
    "            Y_hat_hum = get_human_readable_prediction(Y_hat)\n",
    "            Y_truth_hum = get_human_readable_prediction(Y_truth_one_hot)\n",
    "            print(\"Iteration: \", i)\n",
    "            print(\"accuracy: \", get_accuracy(Y_hat_hum, Y_truth_hum))\n",
    "\n",
    "    return W1, b1, W2, b2\n",
    "\n",
    "\n",
    "W1, b1, W2, b2 = grad_descent(X_train, Y_train, 0.10, 1000)"
   ]
  },
  {
   "cell_type": "code",
   "execution_count": 42,
   "metadata": {},
   "outputs": [
    {
     "name": "stdout",
     "output_type": "stream",
     "text": [
      "Train Accuracy:  0.81540625\n"
     ]
    }
   ],
   "source": [
    "Z1, A1, Z2, Y_hat = forward(X_train, W1, b1, W2, b2)\n",
    "print(\"Train Accuracy: \", get_accuracy(get_human_readable_prediction(Y_hat), Y_train))"
   ]
  },
  {
   "attachments": {},
   "cell_type": "markdown",
   "metadata": {},
   "source": [
    "# Evaluate Model Performance on Validation Set"
   ]
  },
  {
   "cell_type": "code",
   "execution_count": 43,
   "metadata": {},
   "outputs": [
    {
     "name": "stdout",
     "output_type": "stream",
     "text": [
      "Validation Accuracy:  0.8112\n"
     ]
    }
   ],
   "source": [
    "Z1, A1, Z2, Y_hat = forward(X_val, W1, b1, W2, b2)\n",
    "print(\"Validation Accuracy: \", get_accuracy(get_human_readable_prediction(Y_hat), Y_val))"
   ]
  },
  {
   "attachments": {},
   "cell_type": "markdown",
   "metadata": {},
   "source": [
    "# We did it!\n",
    "\n",
    "We have implemente a MLP from scratch and trained a performant digit recognition model! How to increase accuracy even further?"
   ]
  },
  {
   "attachments": {},
   "cell_type": "markdown",
   "metadata": {},
   "source": [
    "# Recommended Resources\n",
    "\n",
    "1. [3blue1brown neural networks playlist](https://www.youtube.com/watch?v=aircAruvnKk&list=PLZHQObOWTQDNU6R1_67000Dx_ZCJB-3pi)\n",
    "2. [Free Online Text Book on Deep Learning](http://neuralnetworksanddeeplearning.com/chap1.html)\n",
    "3. [Understanding Backprop in Neural Networks with Basic Calculs](https://www.youtube.com/watch?v=wqPt3qjB6uA)\n",
    "4. [Gradient Descent | Neural Networks](https://www.youtube.com/watch?v=YS_EztqZCD8)\n"
   ]
  }
 ],
 "metadata": {
  "kernelspec": {
   "display_name": "cluster",
   "language": "python",
   "name": "python3"
  },
  "language_info": {
   "codemirror_mode": {
    "name": "ipython",
    "version": 3
   },
   "file_extension": ".py",
   "mimetype": "text/x-python",
   "name": "python",
   "nbconvert_exporter": "python",
   "pygments_lexer": "ipython3",
   "version": "3.10.11"
  },
  "orig_nbformat": 4,
  "vscode": {
   "interpreter": {
    "hash": "89027c873307ecb527d3244bb63921688d806540739c227c0ed363c32ef772ce"
   }
  }
 },
 "nbformat": 4,
 "nbformat_minor": 2
}
